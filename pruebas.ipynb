{
 "cells": [
  {
   "cell_type": "code",
   "execution_count": 1,
   "id": "9c01d975",
   "metadata": {},
   "outputs": [],
   "source": [
    "import numpy as np\n",
    "import pandas as pd\n",
    "import CleanData as cd\n",
    "import estandarizacion as st\n",
    "import split_data as sd"
   ]
  },
  {
   "cell_type": "code",
   "execution_count": 2,
   "id": "d40decf7",
   "metadata": {},
   "outputs": [
    {
     "name": "stderr",
     "output_type": "stream",
     "text": [
      "/tmp/ipykernel_458385/351934398.py:1: DtypeWarning: Columns (25,51) have mixed types. Specify dtype option on import or set low_memory=False.\n",
      "  df = pd.read_csv('/home/relka/Escritorio/SS_VerPy/Dataset/NFL Play by Play 2009-2016 (v3).csv')\n"
     ]
    }
   ],
   "source": [
    "df = pd.read_csv('/home/relka/Escritorio/SS_VerPy/Dataset/NFL Play by Play 2009-2016 (v3).csv')"
   ]
  },
  {
   "cell_type": "code",
   "execution_count": 3,
   "id": "dc8d9da7",
   "metadata": {},
   "outputs": [],
   "source": [
    "cleaner = cd.CleanData(df)"
   ]
  },
  {
   "cell_type": "code",
   "execution_count": 4,
   "id": "6ab6186d",
   "metadata": {},
   "outputs": [],
   "source": [
    "dfc = cleaner.clean_nans(axis=1,method='drop')"
   ]
  },
  {
   "cell_type": "code",
   "execution_count": 5,
   "id": "2280da47",
   "metadata": {},
   "outputs": [
    {
     "data": {
      "text/html": [
       "<div>\n",
       "<style scoped>\n",
       "    .dataframe tbody tr th:only-of-type {\n",
       "        vertical-align: middle;\n",
       "    }\n",
       "\n",
       "    .dataframe tbody tr th {\n",
       "        vertical-align: top;\n",
       "    }\n",
       "\n",
       "    .dataframe thead th {\n",
       "        text-align: right;\n",
       "    }\n",
       "</style>\n",
       "<table border=\"1\" class=\"dataframe\">\n",
       "  <thead>\n",
       "    <tr style=\"text-align: right;\">\n",
       "      <th></th>\n",
       "      <th>Date</th>\n",
       "      <th>GameID</th>\n",
       "      <th>Drive</th>\n",
       "      <th>qtr</th>\n",
       "      <th>TimeUnder</th>\n",
       "      <th>ydstogo</th>\n",
       "      <th>ydsnet</th>\n",
       "      <th>PlayAttempted</th>\n",
       "      <th>Yards.Gained</th>\n",
       "      <th>sp</th>\n",
       "      <th>...</th>\n",
       "      <th>AwayTeam</th>\n",
       "      <th>Timeout_Indicator</th>\n",
       "      <th>posteam_timeouts_pre</th>\n",
       "      <th>HomeTimeouts_Remaining_Pre</th>\n",
       "      <th>AwayTimeouts_Remaining_Pre</th>\n",
       "      <th>HomeTimeouts_Remaining_Post</th>\n",
       "      <th>AwayTimeouts_Remaining_Post</th>\n",
       "      <th>ExPoint_Prob</th>\n",
       "      <th>TwoPoint_Prob</th>\n",
       "      <th>Season</th>\n",
       "    </tr>\n",
       "  </thead>\n",
       "  <tbody>\n",
       "    <tr>\n",
       "      <th>0</th>\n",
       "      <td>2009-09-10</td>\n",
       "      <td>2009091000</td>\n",
       "      <td>1</td>\n",
       "      <td>1</td>\n",
       "      <td>15</td>\n",
       "      <td>0</td>\n",
       "      <td>0</td>\n",
       "      <td>1</td>\n",
       "      <td>39</td>\n",
       "      <td>0</td>\n",
       "      <td>...</td>\n",
       "      <td>TEN</td>\n",
       "      <td>0</td>\n",
       "      <td>3</td>\n",
       "      <td>3</td>\n",
       "      <td>3</td>\n",
       "      <td>3</td>\n",
       "      <td>3</td>\n",
       "      <td>0.0</td>\n",
       "      <td>0.0</td>\n",
       "      <td>2009</td>\n",
       "    </tr>\n",
       "    <tr>\n",
       "      <th>1</th>\n",
       "      <td>2009-09-10</td>\n",
       "      <td>2009091000</td>\n",
       "      <td>1</td>\n",
       "      <td>1</td>\n",
       "      <td>15</td>\n",
       "      <td>10</td>\n",
       "      <td>5</td>\n",
       "      <td>1</td>\n",
       "      <td>5</td>\n",
       "      <td>0</td>\n",
       "      <td>...</td>\n",
       "      <td>TEN</td>\n",
       "      <td>0</td>\n",
       "      <td>3</td>\n",
       "      <td>3</td>\n",
       "      <td>3</td>\n",
       "      <td>3</td>\n",
       "      <td>3</td>\n",
       "      <td>0.0</td>\n",
       "      <td>0.0</td>\n",
       "      <td>2009</td>\n",
       "    </tr>\n",
       "    <tr>\n",
       "      <th>2</th>\n",
       "      <td>2009-09-10</td>\n",
       "      <td>2009091000</td>\n",
       "      <td>1</td>\n",
       "      <td>1</td>\n",
       "      <td>15</td>\n",
       "      <td>5</td>\n",
       "      <td>2</td>\n",
       "      <td>1</td>\n",
       "      <td>-3</td>\n",
       "      <td>0</td>\n",
       "      <td>...</td>\n",
       "      <td>TEN</td>\n",
       "      <td>0</td>\n",
       "      <td>3</td>\n",
       "      <td>3</td>\n",
       "      <td>3</td>\n",
       "      <td>3</td>\n",
       "      <td>3</td>\n",
       "      <td>0.0</td>\n",
       "      <td>0.0</td>\n",
       "      <td>2009</td>\n",
       "    </tr>\n",
       "    <tr>\n",
       "      <th>3</th>\n",
       "      <td>2009-09-10</td>\n",
       "      <td>2009091000</td>\n",
       "      <td>1</td>\n",
       "      <td>1</td>\n",
       "      <td>14</td>\n",
       "      <td>8</td>\n",
       "      <td>2</td>\n",
       "      <td>1</td>\n",
       "      <td>0</td>\n",
       "      <td>0</td>\n",
       "      <td>...</td>\n",
       "      <td>TEN</td>\n",
       "      <td>0</td>\n",
       "      <td>3</td>\n",
       "      <td>3</td>\n",
       "      <td>3</td>\n",
       "      <td>3</td>\n",
       "      <td>3</td>\n",
       "      <td>0.0</td>\n",
       "      <td>0.0</td>\n",
       "      <td>2009</td>\n",
       "    </tr>\n",
       "    <tr>\n",
       "      <th>4</th>\n",
       "      <td>2009-09-10</td>\n",
       "      <td>2009091000</td>\n",
       "      <td>1</td>\n",
       "      <td>1</td>\n",
       "      <td>14</td>\n",
       "      <td>8</td>\n",
       "      <td>2</td>\n",
       "      <td>1</td>\n",
       "      <td>0</td>\n",
       "      <td>0</td>\n",
       "      <td>...</td>\n",
       "      <td>TEN</td>\n",
       "      <td>0</td>\n",
       "      <td>3</td>\n",
       "      <td>3</td>\n",
       "      <td>3</td>\n",
       "      <td>3</td>\n",
       "      <td>3</td>\n",
       "      <td>0.0</td>\n",
       "      <td>0.0</td>\n",
       "      <td>2009</td>\n",
       "    </tr>\n",
       "  </tbody>\n",
       "</table>\n",
       "<p>5 rows × 37 columns</p>\n",
       "</div>"
      ],
      "text/plain": [
       "         Date      GameID  Drive  qtr  TimeUnder  ydstogo  ydsnet  \\\n",
       "0  2009-09-10  2009091000      1    1         15        0       0   \n",
       "1  2009-09-10  2009091000      1    1         15       10       5   \n",
       "2  2009-09-10  2009091000      1    1         15        5       2   \n",
       "3  2009-09-10  2009091000      1    1         14        8       2   \n",
       "4  2009-09-10  2009091000      1    1         14        8       2   \n",
       "\n",
       "   PlayAttempted  Yards.Gained  sp  ...  AwayTeam  Timeout_Indicator  \\\n",
       "0              1            39   0  ...       TEN                  0   \n",
       "1              1             5   0  ...       TEN                  0   \n",
       "2              1            -3   0  ...       TEN                  0   \n",
       "3              1             0   0  ...       TEN                  0   \n",
       "4              1             0   0  ...       TEN                  0   \n",
       "\n",
       "   posteam_timeouts_pre HomeTimeouts_Remaining_Pre  \\\n",
       "0                     3                          3   \n",
       "1                     3                          3   \n",
       "2                     3                          3   \n",
       "3                     3                          3   \n",
       "4                     3                          3   \n",
       "\n",
       "   AwayTimeouts_Remaining_Pre  HomeTimeouts_Remaining_Post  \\\n",
       "0                           3                            3   \n",
       "1                           3                            3   \n",
       "2                           3                            3   \n",
       "3                           3                            3   \n",
       "4                           3                            3   \n",
       "\n",
       "   AwayTimeouts_Remaining_Post  ExPoint_Prob  TwoPoint_Prob  Season  \n",
       "0                            3           0.0            0.0    2009  \n",
       "1                            3           0.0            0.0    2009  \n",
       "2                            3           0.0            0.0    2009  \n",
       "3                            3           0.0            0.0    2009  \n",
       "4                            3           0.0            0.0    2009  \n",
       "\n",
       "[5 rows x 37 columns]"
      ]
     },
     "execution_count": 5,
     "metadata": {},
     "output_type": "execute_result"
    }
   ],
   "source": [
    "dfc.head()"
   ]
  },
  {
   "cell_type": "code",
   "execution_count": 6,
   "id": "e77ce0b9",
   "metadata": {},
   "outputs": [
    {
     "data": {
      "text/plain": [
       "(362447, 102)"
      ]
     },
     "execution_count": 6,
     "metadata": {},
     "output_type": "execute_result"
    }
   ],
   "source": [
    "df.shape"
   ]
  },
  {
   "cell_type": "code",
   "execution_count": 7,
   "id": "7639e8de",
   "metadata": {},
   "outputs": [
    {
     "data": {
      "text/plain": [
       "(362447, 37)"
      ]
     },
     "execution_count": 7,
     "metadata": {},
     "output_type": "execute_result"
    }
   ],
   "source": [
    "dfc.shape"
   ]
  },
  {
   "cell_type": "code",
   "execution_count": 8,
   "id": "aeed6256",
   "metadata": {},
   "outputs": [],
   "source": [
    "dfc2 = df.dropna(axis=1)"
   ]
  },
  {
   "cell_type": "code",
   "execution_count": 9,
   "id": "248aa6f7",
   "metadata": {},
   "outputs": [
    {
     "data": {
      "text/plain": [
       "(362447, 37)"
      ]
     },
     "execution_count": 9,
     "metadata": {},
     "output_type": "execute_result"
    }
   ],
   "source": [
    "dfc2.shape "
   ]
  },
  {
   "cell_type": "code",
   "execution_count": 10,
   "id": "ad7b086b",
   "metadata": {},
   "outputs": [],
   "source": [
    "X = df.iloc[:,2:4]"
   ]
  },
  {
   "cell_type": "code",
   "execution_count": 11,
   "id": "2742a186",
   "metadata": {},
   "outputs": [
    {
     "data": {
      "text/plain": [
       "np.float64(7.462659368128306)"
      ]
     },
     "execution_count": 11,
     "metadata": {},
     "output_type": "execute_result"
    }
   ],
   "source": [
    "Xprom = np.mean(X)\n",
    "Xprom"
   ]
  },
  {
   "cell_type": "code",
   "execution_count": 12,
   "id": "aa57c58f",
   "metadata": {},
   "outputs": [
    {
     "name": "stdout",
     "output_type": "stream",
     "text": [
      "Promedio total: 5.0\n",
      "Promedio por filas: [2. 5. 8.]\n",
      "Promedio por columnas: [4. 5. 6.]\n"
     ]
    }
   ],
   "source": [
    "import numpy as np\n",
    "\n",
    "# Crear una matriz (lista de listas)\n",
    "matriz = [[1, 2, 3],\n",
    "          [4, 5, 6],\n",
    "          [7, 8, 9]]\n",
    "\n",
    "# Convertir la matriz a un array de NumPy\n",
    "array_matriz = np.array(matriz)\n",
    "\n",
    "# Calcular el promedio de todos los elementos\n",
    "promedio_total = np.mean(array_matriz)\n",
    "print(f\"Promedio total: {promedio_total}\")\n",
    "\n",
    "# Calcular el promedio por filas (axis=1)\n",
    "promedio_filas = np.mean(array_matriz, axis=1)\n",
    "print(f\"Promedio por filas: {promedio_filas}\")\n",
    "\n",
    "# Calcular el promedio por columnas (axis=0)\n",
    "promedio_columnas = np.mean(array_matriz, axis=0)\n",
    "print(f\"Promedio por columnas: {promedio_columnas}\")"
   ]
  },
  {
   "cell_type": "code",
   "execution_count": 13,
   "id": "e23aed22",
   "metadata": {},
   "outputs": [],
   "source": [
    "Xvalues = X.values"
   ]
  },
  {
   "cell_type": "code",
   "execution_count": 14,
   "id": "1ade2860",
   "metadata": {},
   "outputs": [
    {
     "data": {
      "text/plain": [
       "array([[ 1,  1],\n",
       "       [ 1,  1],\n",
       "       [ 1,  1],\n",
       "       ...,\n",
       "       [21,  4],\n",
       "       [21,  4],\n",
       "       [21,  4]], shape=(362447, 2))"
      ]
     },
     "execution_count": 14,
     "metadata": {},
     "output_type": "execute_result"
    }
   ],
   "source": [
    "Xvalues"
   ]
  },
  {
   "cell_type": "code",
   "execution_count": 15,
   "id": "e46ef784",
   "metadata": {},
   "outputs": [],
   "source": [
    "Xprom = np.mean(Xvalues , axis=0)"
   ]
  },
  {
   "cell_type": "code",
   "execution_count": 16,
   "id": "20429844",
   "metadata": {},
   "outputs": [
    {
     "data": {
      "text/plain": [
       "array([12.34708799,  2.57823075])"
      ]
     },
     "execution_count": 16,
     "metadata": {},
     "output_type": "execute_result"
    }
   ],
   "source": [
    "Xprom"
   ]
  },
  {
   "cell_type": "code",
   "execution_count": 17,
   "id": "bab0dee3",
   "metadata": {},
   "outputs": [
    {
     "data": {
      "text/plain": [
       "array([7.16816299, 1.13025754])"
      ]
     },
     "execution_count": 17,
     "metadata": {},
     "output_type": "execute_result"
    }
   ],
   "source": [
    "Xstd = np.std(Xvalues, axis=0)\n",
    "Xstd"
   ]
  },
  {
   "cell_type": "code",
   "execution_count": 18,
   "id": "114e0017",
   "metadata": {},
   "outputs": [],
   "source": [
    "Xs = (X-Xprom)/Xstd"
   ]
  },
  {
   "cell_type": "code",
   "execution_count": 19,
   "id": "1b62f78f",
   "metadata": {},
   "outputs": [],
   "source": [
    "y=df.iloc[:,6]"
   ]
  },
  {
   "cell_type": "code",
   "execution_count": 20,
   "id": "cde9fd06",
   "metadata": {},
   "outputs": [
    {
     "data": {
      "text/plain": [
       "0    15\n",
       "1    15\n",
       "2    15\n",
       "3    14\n",
       "4    14\n",
       "Name: TimeUnder, dtype: int64"
      ]
     },
     "execution_count": 20,
     "metadata": {},
     "output_type": "execute_result"
    }
   ],
   "source": [
    "y.head()"
   ]
  },
  {
   "cell_type": "code",
   "execution_count": 21,
   "id": "be4687bc",
   "metadata": {},
   "outputs": [],
   "source": [
    "a='hola mundo'"
   ]
  },
  {
   "cell_type": "code",
   "execution_count": 22,
   "id": "aef3747f",
   "metadata": {},
   "outputs": [],
   "source": [
    "\n",
    "std = st.Standardization(X,y)"
   ]
  },
  {
   "cell_type": "code",
   "execution_count": 23,
   "id": "bba586e8",
   "metadata": {},
   "outputs": [],
   "source": [
    "a='hola mundo'"
   ]
  },
  {
   "cell_type": "code",
   "execution_count": 24,
   "id": "876993df",
   "metadata": {},
   "outputs": [],
   "source": [
    "Xs,ys =std.standardize(X,y)"
   ]
  },
  {
   "cell_type": "code",
   "execution_count": 25,
   "id": "49620b76",
   "metadata": {},
   "outputs": [
    {
     "data": {
      "text/html": [
       "<div>\n",
       "<style scoped>\n",
       "    .dataframe tbody tr th:only-of-type {\n",
       "        vertical-align: middle;\n",
       "    }\n",
       "\n",
       "    .dataframe tbody tr th {\n",
       "        vertical-align: top;\n",
       "    }\n",
       "\n",
       "    .dataframe thead th {\n",
       "        text-align: right;\n",
       "    }\n",
       "</style>\n",
       "<table border=\"1\" class=\"dataframe\">\n",
       "  <thead>\n",
       "    <tr style=\"text-align: right;\">\n",
       "      <th></th>\n",
       "      <th>Drive</th>\n",
       "      <th>qtr</th>\n",
       "    </tr>\n",
       "  </thead>\n",
       "  <tbody>\n",
       "    <tr>\n",
       "      <th>0</th>\n",
       "      <td>-1.582984</td>\n",
       "      <td>-1.396346</td>\n",
       "    </tr>\n",
       "    <tr>\n",
       "      <th>1</th>\n",
       "      <td>-1.582984</td>\n",
       "      <td>-1.396346</td>\n",
       "    </tr>\n",
       "    <tr>\n",
       "      <th>2</th>\n",
       "      <td>-1.582984</td>\n",
       "      <td>-1.396346</td>\n",
       "    </tr>\n",
       "    <tr>\n",
       "      <th>3</th>\n",
       "      <td>-1.582984</td>\n",
       "      <td>-1.396346</td>\n",
       "    </tr>\n",
       "    <tr>\n",
       "      <th>4</th>\n",
       "      <td>-1.582984</td>\n",
       "      <td>-1.396346</td>\n",
       "    </tr>\n",
       "    <tr>\n",
       "      <th>...</th>\n",
       "      <td>...</td>\n",
       "      <td>...</td>\n",
       "    </tr>\n",
       "    <tr>\n",
       "      <th>362442</th>\n",
       "      <td>1.067625</td>\n",
       "      <td>1.257916</td>\n",
       "    </tr>\n",
       "    <tr>\n",
       "      <th>362443</th>\n",
       "      <td>1.067625</td>\n",
       "      <td>1.257916</td>\n",
       "    </tr>\n",
       "    <tr>\n",
       "      <th>362444</th>\n",
       "      <td>1.207131</td>\n",
       "      <td>1.257916</td>\n",
       "    </tr>\n",
       "    <tr>\n",
       "      <th>362445</th>\n",
       "      <td>1.207131</td>\n",
       "      <td>1.257916</td>\n",
       "    </tr>\n",
       "    <tr>\n",
       "      <th>362446</th>\n",
       "      <td>1.207131</td>\n",
       "      <td>1.257916</td>\n",
       "    </tr>\n",
       "  </tbody>\n",
       "</table>\n",
       "<p>362447 rows × 2 columns</p>\n",
       "</div>"
      ],
      "text/plain": [
       "           Drive       qtr\n",
       "0      -1.582984 -1.396346\n",
       "1      -1.582984 -1.396346\n",
       "2      -1.582984 -1.396346\n",
       "3      -1.582984 -1.396346\n",
       "4      -1.582984 -1.396346\n",
       "...          ...       ...\n",
       "362442  1.067625  1.257916\n",
       "362443  1.067625  1.257916\n",
       "362444  1.207131  1.257916\n",
       "362445  1.207131  1.257916\n",
       "362446  1.207131  1.257916\n",
       "\n",
       "[362447 rows x 2 columns]"
      ]
     },
     "execution_count": 25,
     "metadata": {},
     "output_type": "execute_result"
    }
   ],
   "source": [
    "Xs"
   ]
  },
  {
   "cell_type": "code",
   "execution_count": 26,
   "id": "a89c59e5",
   "metadata": {},
   "outputs": [
    {
     "data": {
      "text/plain": [
       "0         1.640181\n",
       "1         1.640181\n",
       "2         1.640181\n",
       "3         1.424762\n",
       "4         1.424762\n",
       "            ...   \n",
       "362442   -1.375679\n",
       "362443   -1.375679\n",
       "362444   -1.375679\n",
       "362445   -1.375679\n",
       "362446   -1.591098\n",
       "Name: TimeUnder, Length: 362447, dtype: float64"
      ]
     },
     "execution_count": 26,
     "metadata": {},
     "output_type": "execute_result"
    }
   ],
   "source": [
    "ys"
   ]
  },
  {
   "cell_type": "code",
   "execution_count": 28,
   "id": "6d006570",
   "metadata": {},
   "outputs": [],
   "source": [
    "split = sd.SplitData(X, y, test_size=0.2, random_state=42)\n",
    "X_train, X_test, y_train, y_test = split.split_data()"
   ]
  },
  {
   "cell_type": "code",
   "execution_count": 29,
   "id": "672c3211",
   "metadata": {},
   "outputs": [
    {
     "data": {
      "text/html": [
       "<div>\n",
       "<style scoped>\n",
       "    .dataframe tbody tr th:only-of-type {\n",
       "        vertical-align: middle;\n",
       "    }\n",
       "\n",
       "    .dataframe tbody tr th {\n",
       "        vertical-align: top;\n",
       "    }\n",
       "\n",
       "    .dataframe thead th {\n",
       "        text-align: right;\n",
       "    }\n",
       "</style>\n",
       "<table border=\"1\" class=\"dataframe\">\n",
       "  <thead>\n",
       "    <tr style=\"text-align: right;\">\n",
       "      <th></th>\n",
       "      <th>Drive</th>\n",
       "      <th>qtr</th>\n",
       "    </tr>\n",
       "  </thead>\n",
       "  <tbody>\n",
       "    <tr>\n",
       "      <th>128550</th>\n",
       "      <td>10</td>\n",
       "      <td>3</td>\n",
       "    </tr>\n",
       "    <tr>\n",
       "      <th>133422</th>\n",
       "      <td>10</td>\n",
       "      <td>2</td>\n",
       "    </tr>\n",
       "    <tr>\n",
       "      <th>343058</th>\n",
       "      <td>1</td>\n",
       "      <td>1</td>\n",
       "    </tr>\n",
       "    <tr>\n",
       "      <th>56448</th>\n",
       "      <td>11</td>\n",
       "      <td>2</td>\n",
       "    </tr>\n",
       "    <tr>\n",
       "      <th>224000</th>\n",
       "      <td>15</td>\n",
       "      <td>3</td>\n",
       "    </tr>\n",
       "    <tr>\n",
       "      <th>...</th>\n",
       "      <td>...</td>\n",
       "      <td>...</td>\n",
       "    </tr>\n",
       "    <tr>\n",
       "      <th>317376</th>\n",
       "      <td>22</td>\n",
       "      <td>4</td>\n",
       "    </tr>\n",
       "    <tr>\n",
       "      <th>110712</th>\n",
       "      <td>13</td>\n",
       "      <td>3</td>\n",
       "    </tr>\n",
       "    <tr>\n",
       "      <th>57468</th>\n",
       "      <td>3</td>\n",
       "      <td>1</td>\n",
       "    </tr>\n",
       "    <tr>\n",
       "      <th>208503</th>\n",
       "      <td>24</td>\n",
       "      <td>4</td>\n",
       "    </tr>\n",
       "    <tr>\n",
       "      <th>353763</th>\n",
       "      <td>3</td>\n",
       "      <td>1</td>\n",
       "    </tr>\n",
       "  </tbody>\n",
       "</table>\n",
       "<p>72489 rows × 2 columns</p>\n",
       "</div>"
      ],
      "text/plain": [
       "        Drive  qtr\n",
       "128550     10    3\n",
       "133422     10    2\n",
       "343058      1    1\n",
       "56448      11    2\n",
       "224000     15    3\n",
       "...       ...  ...\n",
       "317376     22    4\n",
       "110712     13    3\n",
       "57468       3    1\n",
       "208503     24    4\n",
       "353763      3    1\n",
       "\n",
       "[72489 rows x 2 columns]"
      ]
     },
     "execution_count": 29,
     "metadata": {},
     "output_type": "execute_result"
    }
   ],
   "source": [
    "X_train"
   ]
  },
  {
   "cell_type": "code",
   "execution_count": 30,
   "id": "86f0c020",
   "metadata": {},
   "outputs": [
    {
     "data": {
      "text/plain": [
       "(362447, 2)"
      ]
     },
     "execution_count": 30,
     "metadata": {},
     "output_type": "execute_result"
    }
   ],
   "source": [
    "X.shape"
   ]
  },
  {
   "cell_type": "code",
   "execution_count": null,
   "id": "37d140bb",
   "metadata": {},
   "outputs": [],
   "source": []
  }
 ],
 "metadata": {
  "kernelspec": {
   "display_name": "DataScience",
   "language": "python",
   "name": "python3"
  },
  "language_info": {
   "codemirror_mode": {
    "name": "ipython",
    "version": 3
   },
   "file_extension": ".py",
   "mimetype": "text/x-python",
   "name": "python",
   "nbconvert_exporter": "python",
   "pygments_lexer": "ipython3",
   "version": "3.13.5"
  }
 },
 "nbformat": 4,
 "nbformat_minor": 5
}
