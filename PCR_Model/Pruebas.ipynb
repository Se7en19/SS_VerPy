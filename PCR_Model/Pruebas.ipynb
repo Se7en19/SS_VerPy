{
 "cells": [
  {
   "cell_type": "code",
   "execution_count": 1,
   "id": "976ef1ec",
   "metadata": {},
   "outputs": [],
   "source": [
    "import pandas as pd\n",
    "import numpy as np \n",
    "import split_data as sd \n",
    "import CleanData as cd \n",
    "import estandarizacion as st \n",
    "\n"
   ]
  },
  {
   "cell_type": "code",
   "execution_count": 2,
   "id": "93b343fc",
   "metadata": {},
   "outputs": [],
   "source": [
    "df = pd.read_csv('/home/relka/Escritorio/SS_VerPy/population_by_country_2020.xls')"
   ]
  },
  {
   "cell_type": "code",
   "execution_count": 3,
   "id": "29c868ab",
   "metadata": {},
   "outputs": [],
   "source": [
    "X = df.drop(columns=['Country (or dependency)','Density (P/Km²)','Yearly Change','Fert. Rate','Med. Age',\n",
    "                    'Urban Pop %', 'World Share'])"
   ]
  },
  {
   "cell_type": "code",
   "execution_count": 4,
   "id": "91460faa",
   "metadata": {},
   "outputs": [
    {
     "data": {
      "text/html": [
       "<div>\n",
       "<style scoped>\n",
       "    .dataframe tbody tr th:only-of-type {\n",
       "        vertical-align: middle;\n",
       "    }\n",
       "\n",
       "    .dataframe tbody tr th {\n",
       "        vertical-align: top;\n",
       "    }\n",
       "\n",
       "    .dataframe thead th {\n",
       "        text-align: right;\n",
       "    }\n",
       "</style>\n",
       "<table border=\"1\" class=\"dataframe\">\n",
       "  <thead>\n",
       "    <tr style=\"text-align: right;\">\n",
       "      <th></th>\n",
       "      <th>Population (2020)</th>\n",
       "      <th>Net Change</th>\n",
       "      <th>Land Area (Km²)</th>\n",
       "      <th>Migrants (net)</th>\n",
       "    </tr>\n",
       "  </thead>\n",
       "  <tbody>\n",
       "    <tr>\n",
       "      <th>0</th>\n",
       "      <td>1440297825</td>\n",
       "      <td>5540090</td>\n",
       "      <td>9388211</td>\n",
       "      <td>-348399.0</td>\n",
       "    </tr>\n",
       "    <tr>\n",
       "      <th>1</th>\n",
       "      <td>1382345085</td>\n",
       "      <td>13586631</td>\n",
       "      <td>2973190</td>\n",
       "      <td>-532687.0</td>\n",
       "    </tr>\n",
       "    <tr>\n",
       "      <th>2</th>\n",
       "      <td>331341050</td>\n",
       "      <td>1937734</td>\n",
       "      <td>9147420</td>\n",
       "      <td>954806.0</td>\n",
       "    </tr>\n",
       "    <tr>\n",
       "      <th>3</th>\n",
       "      <td>274021604</td>\n",
       "      <td>2898047</td>\n",
       "      <td>1811570</td>\n",
       "      <td>-98955.0</td>\n",
       "    </tr>\n",
       "    <tr>\n",
       "      <th>4</th>\n",
       "      <td>221612785</td>\n",
       "      <td>4327022</td>\n",
       "      <td>770880</td>\n",
       "      <td>-233379.0</td>\n",
       "    </tr>\n",
       "  </tbody>\n",
       "</table>\n",
       "</div>"
      ],
      "text/plain": [
       "   Population (2020)  Net Change  Land Area (Km²)  Migrants (net)\n",
       "0         1440297825     5540090          9388211       -348399.0\n",
       "1         1382345085    13586631          2973190       -532687.0\n",
       "2          331341050     1937734          9147420        954806.0\n",
       "3          274021604     2898047          1811570        -98955.0\n",
       "4          221612785     4327022           770880       -233379.0"
      ]
     },
     "execution_count": 4,
     "metadata": {},
     "output_type": "execute_result"
    }
   ],
   "source": [
    "X.head()"
   ]
  },
  {
   "cell_type": "code",
   "execution_count": 4,
   "id": "661ee7ae",
   "metadata": {},
   "outputs": [],
   "source": [
    "import CleanData as cd\n"
   ]
  },
  {
   "cell_type": "code",
   "execution_count": 5,
   "id": "3c0e2b27",
   "metadata": {},
   "outputs": [],
   "source": [
    "cleaner = cd.CleanData()"
   ]
  },
  {
   "cell_type": "code",
   "execution_count": 6,
   "id": "f9407b58",
   "metadata": {},
   "outputs": [],
   "source": [
    "Xcln = cleaner.clean_nans(X)"
   ]
  },
  {
   "cell_type": "code",
   "execution_count": 7,
   "id": "85404295",
   "metadata": {},
   "outputs": [],
   "source": [
    "y =df['Density (P/Km²)']"
   ]
  },
  {
   "cell_type": "code",
   "execution_count": 8,
   "id": "8d5a40cd",
   "metadata": {},
   "outputs": [],
   "source": [
    "y = pd.DataFrame(y)"
   ]
  },
  {
   "cell_type": "code",
   "execution_count": 9,
   "id": "1d445c5a",
   "metadata": {},
   "outputs": [],
   "source": [
    "import PCR as pcr \n",
    "\n",
    "pcr = pcr.PCR()"
   ]
  },
  {
   "cell_type": "code",
   "execution_count": 15,
   "id": "cb76c82a",
   "metadata": {},
   "outputs": [],
   "source": [
    "y = pcr._validate_inputs(Xcln, y, 0.3, 200, 0.2, 42, 2)"
   ]
  },
  {
   "cell_type": "code",
   "execution_count": 11,
   "id": "504acd4c",
   "metadata": {},
   "outputs": [],
   "source": [
    "import estandarizacion as st"
   ]
  },
  {
   "cell_type": "code",
   "execution_count": 16,
   "id": "0738b9fc",
   "metadata": {},
   "outputs": [],
   "source": [
    "std = st.Standardization()"
   ]
  },
  {
   "cell_type": "code",
   "execution_count": 17,
   "id": "a0c931b2",
   "metadata": {},
   "outputs": [],
   "source": [
    "Xs,ys,yprom,ystd,Xprom,Xstd = std.standardize(X,y)\n"
   ]
  },
  {
   "cell_type": "code",
   "execution_count": 18,
   "id": "b59e4214",
   "metadata": {},
   "outputs": [],
   "source": [
    "Xs = Xs.values"
   ]
  },
  {
   "cell_type": "code",
   "execution_count": 19,
   "id": "a0494d67",
   "metadata": {},
   "outputs": [
    {
     "data": {
      "text/plain": [
       "(201, 1)"
      ]
     },
     "execution_count": 19,
     "metadata": {},
     "output_type": "execute_result"
    }
   ],
   "source": [
    "Xs.shape"
   ]
  },
  {
   "cell_type": "code",
   "execution_count": 20,
   "id": "dd1c2d3b",
   "metadata": {},
   "outputs": [
    {
     "data": {
      "text/plain": [
       "array([[-1.20541737e-01],\n",
       "       [ 6.17714060e-02],\n",
       "       [-1.89128996e-01],\n",
       "       [-1.21714168e-01],\n",
       "       [-4.19888070e-02],\n",
       "       [-1.95577371e-01],\n",
       "       [-7.77479764e-02],\n",
       "       [ 5.31330336e-01],\n",
       "       [-2.04956825e-01],\n",
       "       [-1.71542519e-01],\n",
       "       [-6.81585344e-03],\n",
       "       [-1.42817941e-01],\n",
       "       [ 5.49468031e-03],\n",
       "       [-1.49852531e-01],\n",
       "       [-2.61609779e-02],\n",
       "       [-1.86784132e-01],\n",
       "       [-1.45749020e-01],\n",
       "       [-1.79749542e-01],\n",
       "       [-6.95409539e-02],\n",
       "       [-1.29921191e-01],\n",
       "       [-4.55061023e-02],\n",
       "       [-1.40473077e-01],\n",
       "       [-8.94722943e-02],\n",
       "       [-1.70956303e-01],\n",
       "       [-1.81508189e-01],\n",
       "       [-1.61576849e-01],\n",
       "       [-1.55128474e-01],\n",
       "       [ 9.87030072e-02],\n",
       "       [-1.83266837e-01],\n",
       "       [-1.55128474e-01],\n",
       "       [-7.59893288e-02],\n",
       "       [-2.00267098e-01],\n",
       "       [-1.99680882e-01],\n",
       "       [-1.95577371e-01],\n",
       "       [-1.66266576e-01],\n",
       "       [-1.55714690e-01],\n",
       "       [-1.75059815e-01],\n",
       "       [-1.37541997e-01],\n",
       "       [-2.07887905e-01],\n",
       "       [-1.61576849e-01],\n",
       "       [-2.00853314e-01],\n",
       "       [-1.63921713e-01],\n",
       "       [-1.94991155e-01],\n",
       "       [-1.94991155e-01],\n",
       "       [-1.52197395e-01],\n",
       "       [-1.86784132e-01],\n",
       "       [-1.29921191e-01],\n",
       "       [-1.77404678e-01],\n",
       "       [-9.12309420e-02],\n",
       "       [-1.91473860e-01],\n",
       "       [-1.82094405e-01],\n",
       "       [-1.77404678e-01],\n",
       "       [-1.61576849e-01],\n",
       "       [-8.47825671e-02],\n",
       "       [-2.08474120e-01],\n",
       "       [-1.99094666e-01],\n",
       "       [ 1.84290528e-01],\n",
       "       [-1.03331488e-02],\n",
       "       [-1.65680360e-01],\n",
       "       [-2.00267098e-01],\n",
       "       [-1.60990633e-01],\n",
       "       [-9.12309420e-02],\n",
       "       [-1.94991155e-01],\n",
       "       [-2.06129257e-01],\n",
       "       [-1.95577371e-01],\n",
       "       [-1.12334714e-01],\n",
       "       [-1.68611440e-01],\n",
       "       [-1.54542258e-01],\n",
       "       [ 8.75649053e-02],\n",
       "       [-1.59231986e-01],\n",
       "       [-1.54542258e-01],\n",
       "       [-2.02611962e-01],\n",
       "       [-1.95577371e-01],\n",
       "       [-1.87956564e-01],\n",
       "       [-1.79163326e-01],\n",
       "       [ 9.75305754e-02],\n",
       "       [-1.46921452e-01],\n",
       "       [ 6.11851901e-02],\n",
       "       [-1.65680360e-01],\n",
       "       [-2.03784393e-01],\n",
       "       [ 1.42879187e-02],\n",
       "       [ 3.24606114e-02],\n",
       "       [-1.48093884e-01],\n",
       "       [-1.99680882e-01],\n",
       "       [-7.83341923e-02],\n",
       "       [-1.28748759e-01],\n",
       "       [-1.62749281e-01],\n",
       "       [-1.42817941e-01],\n",
       "       [-1.45162804e-01],\n",
       "       [-1.38128213e-01],\n",
       "       [-1.95577371e-01],\n",
       "       [-1.58059554e-01],\n",
       "       [-1.41059293e-01],\n",
       "       [-1.47507668e-01],\n",
       "       [-1.70370087e-01],\n",
       "       [-1.82680621e-01],\n",
       "       [-1.46335236e-01],\n",
       "       [-1.98508450e-01],\n",
       "       [-1.51611179e-01],\n",
       "       [ 2.42535889e-02],\n",
       "       [-8.18514877e-02],\n",
       "       [-1.21127952e-01],\n",
       "       [-1.45162804e-01],\n",
       "       [ 3.97534870e+00],\n",
       "       [-1.91473860e-01],\n",
       "       [-1.99680882e-01],\n",
       "       [-1.72714951e-01],\n",
       "       [-2.07887905e-01],\n",
       "       [ 1.80773232e-01],\n",
       "       [-1.77990894e-01],\n",
       "       [-1.90301428e-01],\n",
       "       [-2.67471938e-02],\n",
       "       [-2.02611962e-01],\n",
       "       [ 4.68935966e+00],\n",
       "       [-1.29921191e-01],\n",
       "       [-1.99680882e-01],\n",
       "       [-2.00853314e-01],\n",
       "       [-1.43404156e-01],\n",
       "       [-2.01439530e-01],\n",
       "       [-2.00853314e-01],\n",
       "       [ 2.86292093e-01],\n",
       "       [-1.51611179e-01],\n",
       "       [-1.79163326e-01],\n",
       "       [-1.68025224e-01],\n",
       "       [-2.05543041e-01],\n",
       "       [-1.99680882e-01],\n",
       "       [-2.07301689e-01],\n",
       "       [-1.76232246e-01],\n",
       "       [-6.95409539e-02],\n",
       "       [-1.67439008e-01],\n",
       "       [-1.38128213e-01],\n",
       "       [-1.76818462e-01],\n",
       "       [-1.89715212e-01],\n",
       "       [-1.98508450e-01],\n",
       "       [-1.72714951e-01],\n",
       "       [-2.09060336e-01],\n",
       "       [-1.49266315e-01],\n",
       "       [-5.01958295e-02],\n",
       "       [-6.48512268e-02],\n",
       "       [-1.48680099e-01],\n",
       "       [-2.08850349e-02],\n",
       "       [-1.85025485e-01],\n",
       "       [-2.08474120e-01],\n",
       "       [-7.01271698e-02],\n",
       "       [-2.07887905e-01],\n",
       "       [-2.04956825e-01],\n",
       "       [-1.68611440e-01],\n",
       "       [-1.61576849e-01],\n",
       "       [-1.49852531e-01],\n",
       "       [-1.69197656e-01],\n",
       "       [-1.92646291e-01],\n",
       "       [ 1.10230462e+00],\n",
       "       [-1.80921974e-01],\n",
       "       [-5.01958295e-02],\n",
       "       [-1.92060075e-01],\n",
       "       [-1.58059554e-01],\n",
       "       [ 1.56738381e-01],\n",
       "       [-1.33438486e-01],\n",
       "       [-1.70956303e-01],\n",
       "       [-1.85025485e-01],\n",
       "       [-1.81508189e-01],\n",
       "       [-3.67478619e-04],\n",
       "       [ 6.35300537e-02],\n",
       "       [-2.07887905e-01],\n",
       "       [-1.98508450e-01],\n",
       "       [-1.95577371e-01],\n",
       "       [ 1.24784102e+01],\n",
       "       [-1.82680621e-01],\n",
       "       [-6.83685222e-02],\n",
       "       [-2.09060336e-01],\n",
       "       [-2.07887905e-01],\n",
       "       [-1.29334975e-01],\n",
       "       [ 8.46128270e-01],\n",
       "       [ 5.98745164e-01],\n",
       "       [-1.61576849e-01],\n",
       "       [-7.12996016e-02],\n",
       "       [-2.00267098e-01],\n",
       "       [-1.87370348e-01],\n",
       "       [-2.71234219e-03],\n",
       "       [-2.08474120e-01],\n",
       "       [-1.95577371e-01],\n",
       "       [-2.07887905e-01],\n",
       "       [ 1.81359448e-01],\n",
       "       [-2.00853314e-01],\n",
       "       [-1.65094144e-01],\n",
       "       [ 2.16532402e-01],\n",
       "       [-7.65755447e-02],\n",
       "       [-1.69197656e-01],\n",
       "       [-3.37817845e-02],\n",
       "       [ 3.26154774e-01],\n",
       "       [-2.67471938e-02],\n",
       "       [ 6.66711209e-03],\n",
       "       [-1.24059032e-01],\n",
       "       [-1.14093362e-01],\n",
       "       [-1.61953077e-02],\n",
       "       [-4.37474547e-02],\n",
       "       [ 1.37393256e-01],\n",
       "       [-1.24059032e-01],\n",
       "       [-3.55404322e-02],\n",
       "       [-8.47825671e-02],\n",
       "       [-7.95066241e-02]])"
      ]
     },
     "execution_count": 20,
     "metadata": {},
     "output_type": "execute_result"
    }
   ],
   "source": [
    "Xs"
   ]
  },
  {
   "cell_type": "code",
   "execution_count": null,
   "id": "6b456e6c",
   "metadata": {},
   "outputs": [],
   "source": []
  }
 ],
 "metadata": {
  "kernelspec": {
   "display_name": "DataScience",
   "language": "python",
   "name": "python3"
  },
  "language_info": {
   "codemirror_mode": {
    "name": "ipython",
    "version": 3
   },
   "file_extension": ".py",
   "mimetype": "text/x-python",
   "name": "python",
   "nbconvert_exporter": "python",
   "pygments_lexer": "ipython3",
   "version": "3.13.5"
  }
 },
 "nbformat": 4,
 "nbformat_minor": 5
}
